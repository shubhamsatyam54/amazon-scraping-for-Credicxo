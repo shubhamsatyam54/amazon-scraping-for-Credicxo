{
  "cells": [
    {
      "cell_type": "markdown",
      "metadata": {
        "id": "view-in-github",
        "colab_type": "text"
      },
      "source": [
        "<a href=\"https://colab.research.google.com/github/shubhamsatyam54/amazon-scraping-for-Credicxo/blob/main/scrappy.ipynb\" target=\"_parent\"><img src=\"https://colab.research.google.com/assets/colab-badge.svg\" alt=\"Open In Colab\"/></a>"
      ]
    },
    {
      "cell_type": "code",
      "execution_count": null,
      "id": "0b73fa8a",
      "metadata": {
        "id": "0b73fa8a"
      },
      "outputs": [],
      "source": [
        "!pip install pandas\n",
        "!pip install selenium\n",
        "!pip install webdriver-manager"
      ]
    },
    {
      "cell_type": "code",
      "execution_count": null,
      "id": "49c0e22d",
      "metadata": {
        "id": "49c0e22d",
        "outputId": "44255215-618a-4658-a9ad-d6c81dad0dd3"
      },
      "outputs": [
        {
          "name": "stdout",
          "output_type": "stream",
          "text": [
            "Requirement already satisfied: mysql in c:\\programdata\\anaconda3\\lib\\site-packages (0.0.3)\n",
            "Requirement already satisfied: mysqlclient in c:\\programdata\\anaconda3\\lib\\site-packages (from mysql) (2.1.0)\n",
            "Requirement already satisfied: mysql-connector-python in c:\\programdata\\anaconda3\\lib\\site-packages (8.0.29)\n",
            "Requirement already satisfied: protobuf>=3.0.0 in c:\\users\\satya\\appdata\\roaming\\python\\python39\\site-packages (from mysql-connector-python) (3.19.1)\n"
          ]
        }
      ],
      "source": [
        "!pip install mysql\n",
        "!pip install mysql-connector-python"
      ]
    },
    {
      "cell_type": "code",
      "execution_count": null,
      "id": "a9d0d526",
      "metadata": {
        "id": "a9d0d526"
      },
      "outputs": [],
      "source": [
        "import json\n",
        "import time\n",
        "import pandas as pd"
      ]
    },
    {
      "cell_type": "code",
      "execution_count": null,
      "id": "4181247f",
      "metadata": {
        "id": "4181247f"
      },
      "outputs": [],
      "source": [
        "from selenium import webdriver\n",
        "from selenium.webdriver.chrome.service import Service as ChromeService\n",
        "options = webdriver.ChromeOptions()\n",
        "options.add_argument(\"--headless\")\n",
        "service = ChromeService(executable_path=\"chromedriver.exe\")\n",
        "driver = webdriver.Chrome(service=service, options=options)\n"
      ]
    },
    {
      "cell_type": "code",
      "source": [
        ""
      ],
      "metadata": {
        "id": "O7X8H-KwKfnd"
      },
      "id": "O7X8H-KwKfnd",
      "execution_count": null,
      "outputs": []
    },
    {
      "cell_type": "code",
      "execution_count": null,
      "id": "d4f84da6",
      "metadata": {
        "id": "d4f84da6"
      },
      "outputs": [],
      "source": [
        "final_data = {}\n",
        "time_taken = []"
      ]
    },
    {
      "cell_type": "code",
      "execution_count": null,
      "id": "52eefac3",
      "metadata": {
        "id": "52eefac3"
      },
      "outputs": [],
      "source": [
        "df = pd.read_csv(\"F:\\\\internship\\\\Credicxo\\\\task\\\\amzaon_list.csv\")\n",
        "urllist = df[[\"Asin\", \"country\"]].sort_values(by=\"country\")"
      ]
    },
    {
      "cell_type": "code",
      "execution_count": null,
      "id": "5fd0e61c",
      "metadata": {
        "id": "5fd0e61c"
      },
      "outputs": [],
      "source": [
        "i, total_url = 0, len(urllist)\n",
        "while True:\n",
        "    tempurllist = urllist.iloc[i:i + 100]\n",
        "    start = time.time()\n",
        "    for row in range(len(tempurllist)):\n",
        "        tempdata = {}\n",
        "        url = \"https://www.amazon.{country}/dp/{Asin}\".format(**tempurllist.iloc[row])\n",
        "        driver.get(url)\n",
        "        try:\n",
        "\n",
        "            title = driver.findElements(By.id('productTitle'))\n",
        "            tempdata[\"product_title\"] = title.text\n",
        "\n",
        "            img = driver.findElement(By.className(\"a-dynamic-image\"))\n",
        "            tempdata[\"product_image\"] = img.get_attribute(\"src\")\n",
        "\n",
        "            price_symbol = driver.findElements(By.xpath('.//span[@class=\"a-price-symbol\"]'))\n",
        "            whole_price = driver.findElements(By.xpath('.//span[@class=\"a-price-whole\"]'))\n",
        "            fraction_price = driver.findElements(By.xpath('.//span[@class=\"a-price-fraction\"]'))\n",
        "            full_price = driver.findElements(By.xpath('//span[@class=\"a-size-base a-color-price a-color-price\"]'))\n",
        "            if whole_price != [] and fraction_price != [] and price_symbol != []:\n",
        "                if price_symbol[0].text != \"\":\n",
        "                    price = price_symbol[0].text + '.'.join([whole_price[0].text, fraction_price[0].text])\n",
        "                else:\n",
        "                    price = full_price[0].text\n",
        "            elif full_price != []:\n",
        "                price = full_price[0].text\n",
        "            else:\n",
        "                price = driver.findElements(By.xpath('//span[@class=\"a-color-base\"]'))[0].text\n",
        "            tempdata[\"price\"] = price\n",
        "\n",
        "            desc = driver.findElements(By.xpath('//*[@id=\"bookDescription_feature_div\"]/div/div[1]/span'))\n",
        "            desc2 = driver.findElements(By.xpath('//*[@id=\"feature-bullets\"]/ul/li/span'))\n",
        "            if desc != []:\n",
        "                tempdata[\"desc\"] = desc[0].text\n",
        "            elif desc2 != []:\n",
        "                tempdata[\"desc\"] = desc2[0].text\n",
        "\n",
        "            final_data[url] = tempdata\n",
        "\n",
        "        except:\n",
        "            print(url + \" \" + \"not found\")\n",
        "\n",
        "    end = time.time()\n",
        "    i += 100\n",
        "    time_taken.append(end - start)\n",
        "    if i > total_url:\n",
        "        break\n"
      ]
    },
    {
      "cell_type": "code",
      "execution_count": null,
      "id": "07c19490",
      "metadata": {
        "id": "07c19490"
      },
      "outputs": [],
      "source": [
        "with open(\"output.json\", \"w\") as output:\n",
        "    json.dump(final_data, output)\n",
        "\n",
        "with open(\"time.json\", \"w\") as outtime:\n",
        "    json.dump(time_taken, outtime)\n"
      ]
    },
    {
      "cell_type": "code",
      "execution_count": null,
      "id": "6c68d34d",
      "metadata": {
        "id": "6c68d34d"
      },
      "outputs": [],
      "source": [
        "print(time_taken)"
      ]
    },
    {
      "cell_type": "code",
      "execution_count": null,
      "id": "24459324",
      "metadata": {
        "id": "24459324"
      },
      "outputs": [],
      "source": [
        ""
      ]
    },
    {
      "cell_type": "code",
      "execution_count": null,
      "id": "ba586805",
      "metadata": {
        "id": "ba586805"
      },
      "outputs": [],
      "source": [
        ""
      ]
    },
    {
      "cell_type": "code",
      "execution_count": null,
      "id": "ad6f4973",
      "metadata": {
        "id": "ad6f4973"
      },
      "outputs": [],
      "source": [
        ""
      ]
    }
  ],
  "metadata": {
    "kernelspec": {
      "display_name": "Python 3 (ipykernel)",
      "language": "python",
      "name": "python3"
    },
    "language_info": {
      "codemirror_mode": {
        "name": "ipython",
        "version": 3
      },
      "file_extension": ".py",
      "mimetype": "text/x-python",
      "name": "python",
      "nbconvert_exporter": "python",
      "pygments_lexer": "ipython3",
      "version": "3.9.7"
    },
    "colab": {
      "name": "Untitled.ipynb",
      "provenance": [],
      "include_colab_link": true
    }
  },
  "nbformat": 4,
  "nbformat_minor": 5
}